{
 "cells": [
  {
   "cell_type": "markdown",
   "metadata": {},
   "source": [
    "# projet UBER"
   ]
  },
  {
   "cell_type": "markdown",
   "metadata": {},
   "source": [
    "## import des bibliotheques"
   ]
  },
  {
   "cell_type": "code",
   "execution_count": null,
   "metadata": {},
   "outputs": [],
   "source": [
    "import pandas as pd\n",
    "import numpy as np\n",
    "\n",
    "from sklearn.pipeline import Pipeline\n",
    "from sklearn.impute import SimpleImputer\n",
    "from sklearn.preprocessing import  OneHotEncoder, StandardScaler\n",
    "from sklearn.compose import ColumnTransformer\n",
    "\n",
    "\n",
    "from sklearn.cluster import KMeans\n",
    "from sklearn.metrics import silhouette_score\n",
    "from sklearn.cluster import DBSCAN\n",
    "\n",
    "# Import plotly\n",
    "import plotly.express as px\n",
    "import plotly.graph_objects as go\n",
    "\n",
    "\n",
    "\n",
    "\n"
   ]
  },
  {
   "cell_type": "markdown",
   "metadata": {},
   "source": [
    "## Data année 2014"
   ]
  },
  {
   "cell_type": "code",
   "execution_count": null,
   "metadata": {},
   "outputs": [],
   "source": [
    "#import des dataframe \n",
    "\n",
    "\n",
    "\n",
    "uber_2014_1 = pd.read_csv(r\"D:\\jedha\\full_stack\\projet\\machine_learning\\ML_unsupervised-UBER\\uber-raw-data-apr14.csv\")\n",
    "uber_2014_2 = pd.read_csv(r\"D:\\jedha\\full_stack\\projet\\machine_learning\\ML_unsupervised-UBER\\uber-raw-data-may14.csv\")\n",
    "uber_2014_3 = pd.read_csv(r\"D:\\jedha\\full_stack\\projet\\machine_learning\\ML_unsupervised-UBER\\uber-raw-data-jun14.csv\")\n",
    "uber_2014_4 = pd.read_csv(r\"D:\\jedha\\full_stack\\projet\\machine_learning\\ML_unsupervised-UBER\\uber-raw-data-jul14.csv\")\n",
    "uber_2014_5 = pd.read_csv(r\"D:\\jedha\\full_stack\\projet\\machine_learning\\ML_unsupervised-UBER\\uber-raw-data-aug14.csv\")\n",
    "uber_2014_6 = pd.read_csv(r\"D:\\jedha\\full_stack\\projet\\machine_learning\\ML_unsupervised-UBER\\uber-raw-data-sep14.csv\")\n"
   ]
  },
  {
   "cell_type": "code",
   "execution_count": null,
   "metadata": {},
   "outputs": [],
   "source": [
    "# Concaténation des DataFrames\n",
    "df_uber2014 = pd.concat([uber_2014_1, uber_2014_2,uber_2014_3,uber_2014_4,uber_2014_5,uber_2014_6])\n",
    "df_uber2014"
   ]
  },
  {
   "cell_type": "code",
   "execution_count": null,
   "metadata": {},
   "outputs": [],
   "source": [
    "df_uber2014.describe (include='all')"
   ]
  },
  {
   "cell_type": "code",
   "execution_count": null,
   "metadata": {},
   "outputs": [],
   "source": [
    "print(\"Number of rows : {}\".format(df_uber2014.shape[0]))\n",
    "print()\n",
    "\n",
    "print(\"Number of columns : {}\".format(df_uber2014.shape[1]))\n",
    "print()\n",
    "\n",
    "print(\"Display of df_uber2014: \")\n",
    "display(df_uber2014.head())\n",
    "print()\n",
    "\n",
    "print(\"Basics statistics: \")\n",
    "data_desc = df_uber2014.describe(include='all')\n",
    "display(data_desc)\n",
    "print()\n",
    "\n",
    "print(\"Percentage of missing values: \")\n",
    "display(100*df_uber2014.isnull().sum()/df_uber2014.shape[0])\n",
    "\n",
    "print(\"Columns type\")\n",
    "display(df_uber2014.info())"
   ]
  },
  {
   "cell_type": "markdown",
   "metadata": {},
   "source": [
    "## data engeneering"
   ]
  },
  {
   "cell_type": "code",
   "execution_count": null,
   "metadata": {},
   "outputs": [],
   "source": [
    "df_uber2014 = df_uber2014.rename(columns={'Date/Time':'Pickup_date'})\n",
    "\n",
    "df_uber2014['Pickup_date'] = pd.to_datetime(df_uber2014['Pickup_date'], format='%m/%d/%Y %H:%M:%S')\n",
    "\n",
    "df_uber2014['annee'] = df_uber2014['Pickup_date'].dt.year.astype(str)\n",
    "df_uber2014['mois'] = df_uber2014['Pickup_date'].dt.month.astype(str)\n",
    "df_uber2014['jour'] = df_uber2014['Pickup_date'].dt.day.astype(str)\n",
    "df_uber2014['jour_sem'] = df_uber2014['Pickup_date'].dt.day_name().astype(str)\n",
    "df_uber2014['heure'] = df_uber2014['Pickup_date'].dt.hour.astype(str)\n",
    "#df_uber2014= df_uber2014.drop(columns=['annee','Pickup_date'])\n",
    "df_uber2014.head()"
   ]
  },
  {
   "cell_type": "markdown",
   "metadata": {},
   "source": [
    "### creation de la colonne week end et jours feriés"
   ]
  },
  {
   "cell_type": "code",
   "execution_count": null,
   "metadata": {},
   "outputs": [],
   "source": [
    "df_uber2014['weekend'] = df_uber2014['jour_sem'].isin(['Saturday', 'Sunday'])\n",
    "df_uber2014"
   ]
  },
  {
   "cell_type": "code",
   "execution_count": null,
   "metadata": {},
   "outputs": [],
   "source": [
    "# Exemple : compter les True dans la colonne \"converted\"\n",
    "nb_true = df_uber2014[\"weekend\"].sum()\n",
    "print(f\"Nombre de True : {nb_true}\")\n"
   ]
  },
  {
   "cell_type": "code",
   "execution_count": null,
   "metadata": {},
   "outputs": [],
   "source": [
    "# Ajouter une colonne pour la couleur\n",
    "df_uber2014[\"couleur\"] = df_uber2014[\"jour_sem\"].apply(\n",
    "    lambda x: \"red\" if x in [\"Saturday\", \"Sunday\"] else \"steelblue\"\n",
    ")\n",
    "\n",
    "# Histogramme avec couleurs personnalisées\n",
    "fig = px.histogram(\n",
    "    df_uber2014,\n",
    "    x=\"jour_sem\",\n",
    "    color=\"couleur\",\n",
    "    color_discrete_map=\"identity\",  # pour utiliser les vraies couleurs\n",
    "    title='Répartition par jour de semaine',\n",
    "    height=400\n",
    ")\n",
    "\n",
    "fig.update_layout(title_x=0.5, showlegend=False)  # Pas besoin de légende sur les couleurs\n",
    "fig.show()\n",
    "\n",
    "fig = px.histogram(df_uber2014, x= \"weekend\", title ='repartition weekend semaine ', height=400)\n",
    "fig.update_layout(title_x=0.5)\n",
    "fig.show()\n",
    "\n",
    "fig = px.histogram(df_uber2014, x= \"heure\", title ='repartition par heure', height=400)\n",
    "fig.update_layout(title_x=0.5)\n",
    "fig.show()\n",
    "\n",
    "\n"
   ]
  },
  {
   "cell_type": "code",
   "execution_count": null,
   "metadata": {},
   "outputs": [],
   "source": [
    "col_drop=['Base','annee','mois','jour','couleur']\n",
    "df_uber2014_clean = df_uber2014.drop(col_drop, axis=1)\n",
    "\n",
    "# Filtrer les données dans les limites de New York City\n",
    "df_uber2014_clean = df_uber2014_clean[\n",
    "    (df_uber2014_clean['Lat'] >= 40.4774) & (df_uber2014_clean['Lat'] <= 40.9176) &\n",
    "    (df_uber2014_clean['Lon'] >= -74.2591) & (df_uber2014_clean['Lon'] <= -73.7004)\n",
    "]\n",
    "\n",
    "df_uber2014_clean= df_uber2014_clean.sample (10000)\n",
    "\n",
    "df_uber2014_clean"
   ]
  },
  {
   "cell_type": "markdown",
   "metadata": {},
   "source": [
    "## Preprocessing"
   ]
  },
  {
   "cell_type": "code",
   "execution_count": null,
   "metadata": {},
   "outputs": [],
   "source": [
    "# We chose the latitude and longitude features to train our model\n",
    "X = df_uber2014_clean[[\"Lat\", \"Lon\"]]\n",
    "\n",
    "X[:5]"
   ]
  },
  {
   "cell_type": "markdown",
   "metadata": {},
   "source": [
    "## Kmeans model"
   ]
  },
  {
   "cell_type": "markdown",
   "metadata": {},
   "source": [
    "### Elbow"
   ]
  },
  {
   "cell_type": "code",
   "execution_count": null,
   "metadata": {},
   "outputs": [],
   "source": [
    "wcss = []\n",
    "for k in range(2, 15):\n",
    "  kmeans = KMeans(n_clusters=k, random_state=42)\n",
    "  kmeans.fit(X)\n",
    "  wcss.append(kmeans.inertia_)"
   ]
  },
  {
   "cell_type": "code",
   "execution_count": null,
   "metadata": {},
   "outputs": [],
   "source": [
    "wcss"
   ]
  },
  {
   "cell_type": "code",
   "execution_count": null,
   "metadata": {},
   "outputs": [],
   "source": [
    "px.line(x=range(2, 15), y=wcss)"
   ]
  },
  {
   "cell_type": "markdown",
   "metadata": {},
   "source": [
    "### silhouette score"
   ]
  },
  {
   "cell_type": "code",
   "execution_count": null,
   "metadata": {},
   "outputs": [],
   "source": [
    "\n",
    "\n",
    "ss = []\n",
    "for k in range(2, 15):\n",
    "    kmeans = KMeans(n_clusters=k, random_state=42)\n",
    "    labels = kmeans.fit_predict(X)  # Entraîne le modèle ET retourne les labels\n",
    "    score = silhouette_score(X, labels)\n",
    "    ss.append(score)\n",
    "\n",
    "# Optionnel : afficher les scores\n",
    "print(ss)\n",
    "\n"
   ]
  },
  {
   "cell_type": "code",
   "execution_count": null,
   "metadata": {},
   "outputs": [],
   "source": [
    "\n",
    "df_scores = pd.DataFrame({\n",
    "    'k': list(range(2, 15)),\n",
    "    'silhouette_score': ss\n",
    "})\n",
    "\n",
    "fig = px.bar(df_scores,\n",
    "             x='k',\n",
    "             y='silhouette_score',\n",
    "             text='silhouette_score',\n",
    "             labels={'k': 'Nombre de clusters (k)', 'silhouette_score': 'Silhouette Score'},\n",
    "             title='Silhouette Score en fonction de k')\n",
    "\n",
    "fig.update_traces(texttemplate='%{text:.3f}', textposition='outside')\n",
    "fig.update_layout(yaxis=dict(range=[0, max(ss) + 0.1]), uniformtext_minsize=8, uniformtext_mode='hide')\n",
    "fig.show()\n",
    "\n"
   ]
  },
  {
   "cell_type": "markdown",
   "metadata": {},
   "source": [
    "### Fit "
   ]
  },
  {
   "cell_type": "code",
   "execution_count": null,
   "metadata": {},
   "outputs": [],
   "source": [
    "kmeans = KMeans(n_clusters= 6, random_state=42)  # Choisir le nombre de clusters\n",
    "kmeans.fit(X)"
   ]
  },
  {
   "cell_type": "markdown",
   "metadata": {},
   "source": [
    "### Visualisation"
   ]
  },
  {
   "cell_type": "code",
   "execution_count": null,
   "metadata": {},
   "outputs": [],
   "source": [
    "df_uber2014_clean.loc[:,'Cluster_KMeans'] = kmeans.predict(X)\n",
    "df_uber2014_clean.head()\n"
   ]
  },
  {
   "cell_type": "code",
   "execution_count": null,
   "metadata": {},
   "outputs": [],
   "source": [
    "# Définir les limites géographiques approximatives de New York\n",
    "lat_min, lat_max = 40.4774, 40.9176\n",
    "lon_min, lon_max = -74.2591, -73.7004\n",
    "\n",
    "\n",
    "fig = px.scatter_mapbox(\n",
    "    df_uber2014_clean,\n",
    "    lat='Lat',\n",
    "    lon='Lon',\n",
    "    color='Cluster_KMeans',\n",
    "    mapbox_style='carto-positron',\n",
    "    color_discrete_sequence=px.colors.qualitative.Set2  # ou Set2, Pastel1, Bold, etc.\n",
    ")\n",
    "\n",
    "\n",
    "# Définir les limites de la vue de la carte\n",
    "fig.update_layout(\n",
    "    mapbox=dict(\n",
    "        center=dict(lat=(lat_min + lat_max) / 2, lon=(lon_min + lon_max) / 2),  # Centrer sur New York\n",
    "        zoom=10,  # Zoom initial\n",
    "        style=\"carto-positron\", # Style de la carte\n",
    "        \n",
    "        layers=[],  # Aucun autre layer additionnel (facultatif)\n",
    "    ),\n",
    "    height=800,\n",
    "    title='Clusters KMeans')\n",
    "fig.show()\n"
   ]
  },
  {
   "cell_type": "markdown",
   "metadata": {},
   "source": [
    "## DBSCAN model"
   ]
  },
  {
   "cell_type": "code",
   "execution_count": null,
   "metadata": {},
   "outputs": [],
   "source": [
    "\n",
    "\n",
    "X = df_uber2014_clean[['Lat', 'Lon']].values\n",
    "\n",
    "db = DBSCAN(eps=0.01, min_samples=50, metric=\"manhattan\")\n",
    "db.fit(X)\n",
    "labels_dbscan = db.labels_\n",
    "\n",
    "df_uber2014_clean['Cluster_DBSCAN'] = labels_dbscan\n",
    "\n",
    "df_dbscan_filtered = df_uber2014_clean[df_uber2014_clean['Cluster_DBSCAN'] != -1].copy()\n",
    "df_dbscan_filtered['Cluster_DBSCAN'] = df_dbscan_filtered['Cluster_DBSCAN'].astype(str)\n",
    "\n",
    "# 4. Ajout d'une colonne \"weekend\" (si pas déjà fait)\n",
    "df_dbscan_filtered['weekend'] = df_dbscan_filtered['jour_sem'].isin(['Saturday', 'Sunday'])\n",
    "\n",
    "fig = px.scatter_mapbox(df_dbscan_filtered,\n",
    "                        lat='Lat',\n",
    "                        lon='Lon',\n",
    "                        color='Cluster_DBSCAN',\n",
    "                        mapbox_style='carto-positron',\n",
    "                        zoom=10,\n",
    "                        height=800,\n",
    "                        title='Clusters DBSCAN')\n",
    "fig.show()\n"
   ]
  },
  {
   "cell_type": "markdown",
   "metadata": {},
   "source": [
    "## Evolution par jour de la semaine "
   ]
  },
  {
   "cell_type": "code",
   "execution_count": null,
   "metadata": {},
   "outputs": [],
   "source": [
    "ordre_jours = ['Monday', 'Tuesday', 'Wednesday', 'Thursday', 'Friday', 'Saturday', 'Sunday']\n",
    "\n",
    "# S'assurer que la colonne jour_sem est catégorielle et ordonnée\n",
    "df_dbscan_filtered['jour_sem'] = pd.Categorical(df_dbscan_filtered['jour_sem'],\n",
    "                                                categories=ordre_jours,\n",
    "                                                ordered=True)\n",
    "\n",
    "# Important : convertir les clusters en chaînes pour forcer couleurs catégorielles\n",
    "df_dbscan_filtered['Cluster_DBSCAN'] = df_dbscan_filtered['Cluster_DBSCAN'].astype(str)\n",
    "\n",
    "# Trier les données pour forcer l’ordre dans l’animation\n",
    "df_dbscan_filtered.sort_values('jour_sem', inplace=True)\n"
   ]
  },
  {
   "cell_type": "code",
   "execution_count": null,
   "metadata": {},
   "outputs": [],
   "source": [
    "\n",
    "fig = px.scatter_mapbox(\n",
    "    df_dbscan_filtered,\n",
    "    lat='Lat',\n",
    "    lon='Lon',\n",
    "    color='Cluster_DBSCAN',\n",
    "    animation_frame='jour_sem',\n",
    "    mapbox_style='carto-positron',\n",
    "    zoom=10,\n",
    "    height=800,\n",
    "    title='Clusters DBSCAN animés par jour de la semaine',\n",
    "    color_discrete_sequence=px.colors.qualitative.Set1\n",
    ")\n",
    "\n",
    "fig.update_layout(\n",
    "    mapbox_center={\"lat\": df_dbscan_filtered['Lat'].mean(), \"lon\": df_dbscan_filtered['Lon'].mean()},\n",
    "    updatemenus=[{\n",
    "        \"type\": \"buttons\",\n",
    "        \"buttons\": [\n",
    "            {\n",
    "                \"label\": \"Play\",\n",
    "                \"method\": \"animate\",\n",
    "                \"args\": [None, {\n",
    "                    \"frame\": {\"duration\": 1200, \"redraw\": True},\n",
    "                    \"fromcurrent\": True,\n",
    "                    \"transition\": {\"duration\": 500}\n",
    "                }]\n",
    "            },\n",
    "            {\n",
    "                \"label\": \"Pause\",\n",
    "                \"method\": \"animate\",\n",
    "                \"args\": [[None], {\n",
    "                    \"frame\": {\"duration\": 0, \"redraw\": False},\n",
    "                    \"mode\": \"immediate\",\n",
    "                    \"transition\": {\"duration\": 0}\n",
    "                }]\n",
    "            }\n",
    "        ]\n",
    "    }]\n",
    ")\n",
    "\n",
    "fig.show()\n"
   ]
  },
  {
   "cell_type": "markdown",
   "metadata": {},
   "source": [
    "## Evolution au fil de la journée"
   ]
  },
  {
   "cell_type": "code",
   "execution_count": null,
   "metadata": {},
   "outputs": [],
   "source": [
    "# S'assurer que la colonne 'heure' est de type entier et triée\n",
    "df_dbscan_filtered['heure'] = df_dbscan_filtered['heure'].astype(int)\n",
    "\n",
    "# Optionnel : trier pour forcer l’ordre d’affichage\n",
    "df_dbscan_filtered.sort_values('heure', inplace=True)\n",
    "\n",
    "# Important : Cluster_DBSCAN doit être en chaîne pour éviter problèmes de couleur\n",
    "df_dbscan_filtered['Cluster_DBSCAN'] = df_dbscan_filtered['Cluster_DBSCAN'].astype(str)\n"
   ]
  },
  {
   "cell_type": "code",
   "execution_count": null,
   "metadata": {},
   "outputs": [],
   "source": [
    "\n",
    "fig = px.scatter_mapbox(\n",
    "    df_dbscan_filtered,\n",
    "    lat='Lat',\n",
    "    lon='Lon',\n",
    "    color='Cluster_DBSCAN',\n",
    "    animation_frame='heure',\n",
    "    mapbox_style='carto-positron',\n",
    "    zoom=10,\n",
    "    height=800,\n",
    "    title='Clusters DBSCAN animés par heure de la journée',\n",
    "    color_discrete_sequence=px.colors.qualitative.Set1\n",
    ")\n",
    "\n",
    "fig.update_layout(\n",
    "    mapbox_center={\"lat\": df_dbscan_filtered['Lat'].mean(), \"lon\": df_dbscan_filtered['Lon'].mean()},\n",
    "    updatemenus=[{\n",
    "        \"type\": \"buttons\",\n",
    "        \"buttons\": [\n",
    "            {\n",
    "                \"label\": \"Play\",\n",
    "                \"method\": \"animate\",\n",
    "                \"args\": [None, {\n",
    "                    \"frame\": {\"duration\": 800, \"redraw\": True},\n",
    "                    \"fromcurrent\": True,\n",
    "                    \"transition\": {\"duration\": 300}\n",
    "                }]\n",
    "            },\n",
    "            {\n",
    "                \"label\": \"Pause\",\n",
    "                \"method\": \"animate\",\n",
    "                \"args\": [[None], {\n",
    "                    \"frame\": {\"duration\": 0, \"redraw\": False},\n",
    "                    \"mode\": \"immediate\",\n",
    "                    \"transition\": {\"duration\": 0}\n",
    "                }]\n",
    "            }\n",
    "        ]\n",
    "    }]\n",
    ")\n",
    "\n",
    "fig.show()\n"
   ]
  },
  {
   "cell_type": "markdown",
   "metadata": {},
   "source": [
    "### Comparaison week end et jour de semaine "
   ]
  },
  {
   "cell_type": "code",
   "execution_count": null,
   "metadata": {},
   "outputs": [],
   "source": [
    "# 5. Séparation semaine / week-end\n",
    "df_semaine = df_dbscan_filtered[df_dbscan_filtered['weekend'] == False].copy()\n",
    "df_weekend = df_dbscan_filtered[df_dbscan_filtered['weekend'] == True].copy()"
   ]
  },
  {
   "cell_type": "code",
   "execution_count": null,
   "metadata": {},
   "outputs": [],
   "source": [
    "df_semaine['Cluster_DBSCAN'] = df_semaine['Cluster_DBSCAN'].astype(int)\n",
    "df_weekend['Cluster_DBSCAN'] = df_weekend['Cluster_DBSCAN'].astype(int)\n",
    "\n"
   ]
  },
  {
   "cell_type": "code",
   "execution_count": null,
   "metadata": {},
   "outputs": [],
   "source": [
    "fig = go.Figure()\n",
    "\n",
    "# Trace pour la semaine\n",
    "fig.add_trace(go.Scattermapbox(\n",
    "    lat=df_semaine['Lat'],\n",
    "    lon=df_semaine['Lon'],\n",
    "    mode='markers',\n",
    "    marker=dict(\n",
    "        size=6,\n",
    "        color=df_semaine['Cluster_DBSCAN'].astype(int),\n",
    "        colorscale='Viridis',  # ✅ couleurs valides pour Plotly\n",
    "        showscale=False\n",
    "    ),\n",
    "    name='Semaine',\n",
    "    visible=True\n",
    "))\n",
    "\n",
    "# Trace pour le week-end\n",
    "fig.add_trace(go.Scattermapbox(\n",
    "    lat=df_weekend['Lat'],\n",
    "    lon=df_weekend['Lon'],\n",
    "    mode='markers',\n",
    "    marker=dict(\n",
    "        size=6,\n",
    "        color=df_weekend['Cluster_DBSCAN'].astype(int),\n",
    "        colorscale='Viridis',\n",
    "        showscale=False\n",
    "    ),\n",
    "    name='Week-end',\n",
    "    visible=False\n",
    "))\n",
    "\n",
    "fig.update_layout(\n",
    "    title='Clusters DBSCAN - Semaine vs Week-end',\n",
    "    mapbox=dict(\n",
    "        style='carto-positron',\n",
    "        zoom=10,\n",
    "        center=dict(lat=df_dbscan_filtered['Lat'].mean(), lon=df_dbscan_filtered['Lon'].mean())\n",
    "    ),\n",
    "    height=800,\n",
    "    updatemenus=[\n",
    "        dict(\n",
    "            type='buttons',\n",
    "            direction='right',\n",
    "            x=0.5,\n",
    "            xanchor='center',\n",
    "            y=1.1,\n",
    "            yanchor='top',\n",
    "            buttons=[\n",
    "                dict(label='Semaine', method='update', args=[{'visible': [True, False]}]),\n",
    "                dict(label='Week-end', method='update', args=[{'visible': [False, True]}]),\n",
    "            ]\n",
    "        )\n",
    "    ]\n",
    ")\n",
    "\n",
    "fig.show()\n"
   ]
  }
 ],
 "metadata": {
  "kernelspec": {
   "display_name": "llm_env",
   "language": "python",
   "name": "python3"
  },
  "language_info": {
   "codemirror_mode": {
    "name": "ipython",
    "version": 3
   },
   "file_extension": ".py",
   "mimetype": "text/x-python",
   "name": "python",
   "nbconvert_exporter": "python",
   "pygments_lexer": "ipython3",
   "version": "3.10.16"
  }
 },
 "nbformat": 4,
 "nbformat_minor": 2
}
